{
 "cells": [
  {
   "cell_type": "code",
   "execution_count": 2,
   "id": "5311acd8-fbca-49ca-95b2-7bc535c9d3e1",
   "metadata": {},
   "outputs": [],
   "source": [
    "import whisper\n"
   ]
  },
  {
   "cell_type": "code",
   "execution_count": 2,
   "id": "54f543a6-13ac-4436-ae58-c9bb51a982ee",
   "metadata": {},
   "outputs": [
    {
     "name": "stdout",
     "output_type": "stream",
     "text": [
      "Collecting whisper\n",
      "  Downloading whisper-1.1.10.tar.gz (42 kB)\n",
      "  Installing build dependencies ... \u001b[?2done\n",
      "\u001b[?25h  Getting requirements to build wheel ... \u001b[?25ldone\n",
      "\u001b[?25h  Preparing metadata (pyproject.toml) ... \u001b[?25ldone\n",
      "\u001b[?25hRequirement already satisfied: six in /Users/lana/.pyenv/versions/3.8.10/lib/python3.8/site-packages (from whisper) (1.17.0)\n",
      "Building wheels for collected packages: whisper\n",
      "  Building wheel for whisper (pyproject.toml) ... \u001b[?25ldone\n",
      "\u001b[?25h  Created wheel for whisper: filename=whisper-1.1.10-py3-none-any.whl size=41120 sha256=241e2cfec20341c36ae12f4466bc50bd8cf372c69bc7b4108f05e3d042358f73\n",
      "  Stored in directory: /Users/lana/Library/Caches/pip/wheels/e2/67/01/94b1970258d4d437d8b13542406a7212f71b075dc832566b02\n",
      "Successfully built whisper\n",
      "Installing collected packages: whisper\n",
      "Successfully installed whisper-1.1.10\n"
     ]
    }
   ],
   "source": [
    "!pip install whisper\n"
   ]
  },
  {
   "cell_type": "code",
   "execution_count": null,
   "id": "a516973a-a236-4942-a12e-8d83132a7826",
   "metadata": {},
   "outputs": [],
   "source": "import whisper\nimport sys\n\n# Ensure UTF-8 encoding for Georgian\nsys.stdout.reconfigure(encoding='utf-8')\n\n# Load model\nprint(\"Loading Whisper model...\")\nmodel = whisper.load_model(\"small\")  # or \"base\", \"medium\"\n\n# Test with one of your audio files\naudio_path = \"cv-corpus-23.0-2025-09-05/ka/clips/common_voice_ka_21298144.mp3\"\n\nprint(f\"Transcribing: {audio_path}\")\nresult = model.transcribe(audio_path, language=\"ka\")  # ka = Georgian\n\nprint(\"\\n\" + \"=\"*50)\nprint(\"TRANSCRIPTION:\")\nprint(\"=\"*50)\nprint(result[\"text\"])\nprint(\"=\"*50)"
  }
 ],
 "metadata": {
  "kernelspec": {
   "display_name": "3.8.10",
   "language": "python",
   "name": "python3"
  },
  "language_info": {
   "codemirror_mode": {
    "name": "ipython",
    "version": 3
   },
   "file_extension": ".py",
   "mimetype": "text/x-python",
   "name": "python",
   "nbconvert_exporter": "python",
   "pygments_lexer": "ipython3",
   "version": "3.8.10"
  }
 },
 "nbformat": 4,
 "nbformat_minor": 5
}