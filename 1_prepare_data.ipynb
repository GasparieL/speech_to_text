{
 "cells": [
  {
   "cell_type": "markdown",
   "metadata": {},
   "source": [
    "# Prepare Georgian Speech Data for Whisper Fine-tuning\n",
    "This notebook loads the Common Voice Georgian dataset and prepares it for training."
   ]
  },
  {
   "cell_type": "code",
   "execution_count": 3,
   "metadata": {},
   "outputs": [],
   "source": [
    "import pandas as pd\n",
    "import os\n",
    "from pathlib import Path\n",
    "import librosa\n",
    "import numpy as np\n",
    "\n",
    "# Dataset paths\n",
    "DATA_DIR = Path(\"cv-corpus-23.0-2025-09-05/ka\")\n",
    "CLIPS_DIR = DATA_DIR / \"clips\"\n",
    "TRAIN_TSV = DATA_DIR / \"train.tsv\"\n",
    "TEST_TSV = DATA_DIR / \"test.tsv\"\n",
    "DEV_TSV = DATA_DIR / \"dev.tsv\""
   ]
  },
  {
   "cell_type": "code",
   "execution_count": 4,
   "metadata": {},
   "outputs": [
    {
     "name": "stdout",
     "output_type": "stream",
     "text": [
      "Requirement already satisfied: transformers in /Users/lana/.pyenv/versions/3.8.10/lib/python3.8/site-packages (4.46.3)\n",
      "Requirement already satisfied: filelock in /Users/lana/.pyenv/versions/3.8.10/lib/python3.8/site-packages (from transformers) (3.16.1)\n",
      "Requirement already satisfied: huggingface-hub<1.0,>=0.23.2 in /Users/lana/.pyenv/versions/3.8.10/lib/python3.8/site-packages (from transformers) (0.28.1)\n",
      "Requirement already satisfied: numpy>=1.17 in /Users/lana/.pyenv/versions/3.8.10/lib/python3.8/site-packages (from transformers) (1.24.3)\n",
      "Requirement already satisfied: packaging>=20.0 in /Users/lana/.pyenv/versions/3.8.10/lib/python3.8/site-packages (from transformers) (23.2)\n",
      "Requirement already satisfied: pyyaml>=5.1 in /Users/lana/.pyenv/versions/3.8.10/lib/python3.8/site-packages (from transformers) (6.0.2)\n",
      "Requirement already satisfied: regex!=2019.12.17 in /Users/lana/.pyenv/versions/3.8.10/lib/python3.8/site-packages (from transformers) (2023.10.3)\n",
      "Requirement already satisfied: requests in /Users/lana/.pyenv/versions/3.8.10/lib/python3.8/site-packages (from transformers) (2.32.3)\n",
      "Requirement already satisfied: tokenizers<0.21,>=0.20 in /Users/lana/.pyenv/versions/3.8.10/lib/python3.8/site-packages (from transformers) (0.20.3)\n",
      "Requirement already satisfied: safetensors>=0.4.1 in /Users/lana/.pyenv/versions/3.8.10/lib/python3.8/site-packages (from transformers) (0.5.2)\n",
      "Requirement already satisfied: tqdm>=4.27 in /Users/lana/.pyenv/versions/3.8.10/lib/python3.8/site-packages (from transformers) (4.67.1)\n",
      "Requirement already satisfied: fsspec>=2023.5.0 in /Users/lana/.pyenv/versions/3.8.10/lib/python3.8/site-packages (from huggingface-hub<1.0,>=0.23.2->transformers) (2025.2.0)\n",
      "Requirement already satisfied: typing-extensions>=3.7.4.3 in /Users/lana/.pyenv/versions/3.8.10/lib/python3.8/site-packages (from huggingface-hub<1.0,>=0.23.2->transformers) (4.12.2)\n",
      "Requirement already satisfied: charset-normalizer<4,>=2 in /Users/lana/.pyenv/versions/3.8.10/lib/python3.8/site-packages (from requests->transformers) (3.4.1)\n",
      "Requirement already satisfied: idna<4,>=2.5 in /Users/lana/.pyenv/versions/3.8.10/lib/python3.8/site-packages (from requests->transformers) (3.10)\n",
      "Requirement already satisfied: urllib3<3,>=1.21.1 in /Users/lana/.pyenv/versions/3.8.10/lib/python3.8/site-packages (from requests->transformers) (2.2.3)\n",
      "Requirement already satisfied: certifi>=2017.4.17 in /Users/lana/.pyenv/versions/3.8.10/lib/python3.8/site-packages (from requests->transformers) (2025.1.31)\n"
     ]
    }
   ],
   "source": [
    "!pip install transformers"
   ]
  },
  {
   "cell_type": "code",
   "execution_count": null,
   "metadata": {},
   "outputs": [],
   "source": [
    "# Load the training data\n",
    "train_df = pd.read_csv(TRAIN_TSV, sep='\\t')\n",
    "test_df = pd.read_csv(TEST_TSV, sep='\\t')\n",
    "dev_df = pd.read_csv(DEV_TSV, sep='\\t')\n",
    "\n",
    "print(f\"Training samples: {len(train_df)}\")\n",
    "print(f\"Test samples: {len(test_df)}\")\n",
    "print(f\"Dev samples: {len(dev_df)}\")\n",
    "print(\"\\nColumns:\", train_df.columns.tolist())\n",
    "print(\"\\nFirst few rows:\")\n",
    "train_df.head()"
   ]
  },
  {
   "cell_type": "code",
   "execution_count": null,
   "metadata": {},
   "outputs": [],
   "source": [
    "# Check audio files exist and get statistics\n",
    "def check_audio_files(df, clips_dir):\n",
    "    existing = []\n",
    "    durations = []\n",
    "    \n",
    "    for idx, row in df.iterrows():\n",
    "        audio_path = clips_dir / row['path']\n",
    "        if audio_path.exists():\n",
    "            existing.append(True)\n",
    "            # Get duration\n",
    "            try:\n",
    "                duration = librosa.get_duration(path=str(audio_path))\n",
    "                durations.append(duration)\n",
    "            except:\n",
    "                durations.append(0)\n",
    "        else:\n",
    "            existing.append(False)\n",
    "            durations.append(0)\n",
    "        \n",
    "        if idx % 1000 == 0:\n",
    "            print(f\"Checked {idx}/{len(df)} files...\")\n",
    "    \n",
    "    df['exists'] = existing\n",
    "    df['duration'] = durations\n",
    "    return df\n",
    "\n",
    "print(\"Checking training files...\")\n",
    "train_df = check_audio_files(train_df, CLIPS_DIR)\n",
    "print(f\"\\nExisting training files: {train_df['exists'].sum()}/{len(train_df)}\")\n",
    "print(f\"Total training duration: {train_df['duration'].sum()/3600:.2f} hours\")"
   ]
  },
  {
   "cell_type": "code",
   "execution_count": null,
   "metadata": {},
   "outputs": [],
   "source": [
    "# Filter only existing files\n",
    "train_df_clean = train_df[train_df['exists']].copy()\n",
    "test_df_clean = test_df[test_df['exists']].copy() if 'exists' in test_df.columns else test_df.copy()\n",
    "\n",
    "# Create simplified dataset\n",
    "train_data = train_df_clean[['path', 'sentence']].copy()\n",
    "train_data['audio_path'] = train_data['path'].apply(lambda x: str(CLIPS_DIR / x))\n",
    "train_data = train_data[['audio_path', 'sentence']]\n",
    "\n",
    "print(f\"Clean training samples: {len(train_data)}\")\n",
    "print(\"\\nSample data:\")\n",
    "train_data.head()"
   ]
  },
  {
   "cell_type": "code",
   "execution_count": null,
   "metadata": {},
   "outputs": [],
   "source": [
    "# Save processed data\n",
    "train_data.to_csv('train_processed.csv', index=False)\n",
    "print(\"Saved processed training data to train_processed.csv\")"
   ]
  },
  {
   "cell_type": "code",
   "execution_count": null,
   "metadata": {},
   "outputs": [],
   "source": [
    "# Statistics\n",
    "print(\"\\n=== Dataset Statistics ===\")\n",
    "print(f\"Total samples: {len(train_data)}\")\n",
    "print(f\"Total duration: {train_df_clean['duration'].sum()/3600:.2f} hours\")\n",
    "print(f\"Average duration: {train_df_clean['duration'].mean():.2f} seconds\")\n",
    "print(f\"Min duration: {train_df_clean['duration'].min():.2f} seconds\")\n",
    "print(f\"Max duration: {train_df_clean['duration'].max():.2f} seconds\")\n",
    "\n",
    "# Text statistics\n",
    "print(f\"\\nAverage text length: {train_data['sentence'].str.len().mean():.2f} characters\")"
   ]
  }
 ],
 "metadata": {
  "kernelspec": {
   "display_name": "3.8.10",
   "language": "python",
   "name": "python3"
  },
  "language_info": {
   "codemirror_mode": {
    "name": "ipython",
    "version": 3
   },
   "file_extension": ".py",
   "mimetype": "text/x-python",
   "name": "python",
   "nbconvert_exporter": "python",
   "pygments_lexer": "ipython3",
   "version": "3.8.10"
  }
 },
 "nbformat": 4,
 "nbformat_minor": 4
}
